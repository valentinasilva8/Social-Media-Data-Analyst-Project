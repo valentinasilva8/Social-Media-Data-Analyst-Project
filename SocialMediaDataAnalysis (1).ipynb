{
 "cells": [
  {
   "cell_type": "markdown",
   "metadata": {},
   "source": [
    "# Clean & Analyze Social Media"
   ]
  },
  {
   "cell_type": "markdown",
   "metadata": {},
   "source": [
    "# Introduction\n",
    "\n",
    "Social media has become a ubiquitous part of modern life, with platforms such as Instagram, Twitter, and Facebook serving as essential communication channels. Social media data sets are vast and complex, making analysis a challenging task for businesses and researchers alike. In this project, we explore a simulated social media, for example Tweets, data set to understand trends in likes across different categories.\n",
    "\n",
    "## Prerequisites\n",
    "\n",
    "To follow along with this project, you should have a basic understanding of Python programming and data analysis concepts. In addition, you may want to use the following packages in your Python environment:\n",
    "\n",
    "- pandas\n",
    "- Matplotlib\n",
    "- ...\n",
    "\n",
    "These packages should already be installed in Coursera's Jupyter Notebook environment, however if you'd like to install additional packages that are not included in this environment or are working off platform you can install additional packages using `!pip install packagename` within a notebook cell such as:\n",
    "\n",
    "- `!pip install pandas`\n",
    "- `!pip install matplotlib`\n",
    "\n",
    "## Project Scope\n",
    "\n",
    "The objective of this project is to analyze tweets (or other social media data) and gain insights into user engagement. We will explore the data set using visualization techniques to understand the distribution of likes across different categories. Finally, we will analyze the data to draw conclusions about the most popular categories and the overall engagement on the platform.\n",
    "\n",
    "## Step 1: Importing Required Libraries\n",
    "\n",
    "As the name suggests, the first step is to import all the necessary libraries that will be used in the project. In this case, we need pandas, numpy, matplotlib, seaborn, and random libraries.\n",
    "\n",
    "Pandas is a library used for data manipulation and analysis. Numpy is a library used for numerical computations. Matplotlib is a library used for data visualization. Seaborn is a library used for statistical data visualization. Random is a library used to generate random numbers."
   ]
  },
  {
   "cell_type": "code",
   "execution_count": 15,
   "metadata": {},
   "outputs": [
    {
     "name": "stdout",
     "output_type": "stream",
     "text": [
      "Pandas version: 1.0.3\n",
      "NumPy version: 1.18.4\n",
      "Matplotlib version: 3.2.1\n",
      "Seaborn version: 0.10.1\n"
     ]
    }
   ],
   "source": [
    "import pandas as pd\n",
    "import numpy as np\n",
    "import matplotlib.pyplot as plt\n",
    "import seaborn as sns\n",
    "import random\n",
    "\n",
    "# Displaying the versions of the libraries\n",
    "print(\"Pandas version:\", pd.__version__)\n",
    "print(\"NumPy version:\", np.__version__)\n",
    "print(\"Matplotlib version:\", plt.matplotlib.__version__)\n",
    "print(\"Seaborn version:\", sns.__version__)\n",
    "\n",
    "# Set the aesthetic style of the plots\n",
    "sns.set(style=\"whitegrid\")\n"
   ]
  },
  {
   "cell_type": "code",
   "execution_count": 16,
   "metadata": {},
   "outputs": [
    {
     "name": "stdout",
     "output_type": "stream",
     "text": [
      "DataFrame Head:\n",
      "        Date Category  Likes\n",
      "0 2021-01-01   Travel   4914\n",
      "1 2021-01-02  Fitness   6037\n",
      "2 2021-01-03  Fitness   2678\n",
      "3 2021-01-04  Fashion   7985\n",
      "4 2021-01-05   Health   9573\n",
      "\n",
      "DataFrame Info:\n",
      "<class 'pandas.core.frame.DataFrame'>\n",
      "RangeIndex: 500 entries, 0 to 499\n",
      "Data columns (total 3 columns):\n",
      " #   Column    Non-Null Count  Dtype         \n",
      "---  ------    --------------  -----         \n",
      " 0   Date      500 non-null    datetime64[ns]\n",
      " 1   Category  500 non-null    object        \n",
      " 2   Likes     500 non-null    int64         \n",
      "dtypes: datetime64[ns](1), int64(1), object(1)\n",
      "memory usage: 11.8+ KB\n",
      "None\n",
      "\n",
      "DataFrame Description:\n",
      "            Likes\n",
      "count   500.00000\n",
      "mean   4997.35800\n",
      "std    2979.58906\n",
      "min       1.00000\n",
      "25%    2272.00000\n",
      "50%    4997.00000\n",
      "75%    7605.75000\n",
      "max    9977.00000\n",
      "\n",
      "Category Count:\n",
      "Fitness    79\n",
      "Health     69\n",
      "Fashion    69\n",
      "Food       59\n",
      "Music      57\n",
      "Travel     57\n",
      "Family     56\n",
      "Culture    54\n",
      "Name: Category, dtype: int64\n"
     ]
    }
   ],
   "source": [
    "# Define the list of categories\n",
    "categories = ['Food', 'Travel', 'Fashion', 'Fitness', 'Music', 'Culture', 'Family', 'Health']\n",
    "\n",
    "# Number of entries (n)\n",
    "n = 500\n",
    "\n",
    "# Generate random data\n",
    "data = {\n",
    "    'Date': pd.date_range('2021-01-01', periods=n),\n",
    "    'Category': [random.choice(categories) for _ in range(n)],\n",
    "    'Likes': np.random.randint(0, 10000, size=n)\n",
    "}\n",
    "\n",
    "# Load the data into a Pandas DataFrame and explore the data\n",
    "tweets_df = pd.DataFrame(data)\n",
    "\n",
    "print(\"DataFrame Head:\")\n",
    "print(tweets_df.head())\n",
    "\n",
    "# Print DataFrame Information\n",
    "print(\"\\nDataFrame Info:\")\n",
    "print(tweets_df.info())\n",
    "\n",
    "# Print DataFrame Description\n",
    "print(\"\\nDataFrame Description:\")\n",
    "print(tweets_df.describe())\n",
    "\n",
    "# Print the count of each 'Category' element\n",
    "print(\"\\nCategory Count:\")\n",
    "print(tweets_df['Category'].value_counts())\n",
    "\n"
   ]
  },
  {
   "cell_type": "code",
   "execution_count": 17,
   "metadata": {},
   "outputs": [
    {
     "name": "stdout",
     "output_type": "stream",
     "text": [
      "\n",
      "Cleaned DataFrame Info:\n",
      "<class 'pandas.core.frame.DataFrame'>\n",
      "Int64Index: 500 entries, 0 to 499\n",
      "Data columns (total 3 columns):\n",
      " #   Column    Non-Null Count  Dtype         \n",
      "---  ------    --------------  -----         \n",
      " 0   Date      500 non-null    datetime64[ns]\n",
      " 1   Category  500 non-null    object        \n",
      " 2   Likes     500 non-null    int64         \n",
      "dtypes: datetime64[ns](1), int64(1), object(1)\n",
      "memory usage: 15.6+ KB\n",
      "None\n",
      "\n",
      "Cleaned DataFrame Head:\n",
      "        Date Category  Likes\n",
      "0 2021-01-01   Travel   4914\n",
      "1 2021-01-02  Fitness   6037\n",
      "2 2021-01-03  Fitness   2678\n",
      "3 2021-01-04  Fashion   7985\n",
      "4 2021-01-05   Health   9573\n",
      "\n",
      "Cleaned DataFrame Description:\n",
      "            Likes\n",
      "count   500.00000\n",
      "mean   4997.35800\n",
      "std    2979.58906\n",
      "min       1.00000\n",
      "25%    2272.00000\n",
      "50%    4997.00000\n",
      "75%    7605.75000\n",
      "max    9977.00000\n"
     ]
    }
   ],
   "source": [
    "# Clean the data\n",
    "# Removes empty cells\n",
    "tweets_df.dropna(inplace=True)\n",
    "tweets_df.drop_duplicates(inplace=True)\n",
    "\n",
    "# Convert 'Date' to datetime format\n",
    "tweets_df['Date'] = pd.to_datetime(tweets_df['Date'])\n",
    "\n",
    "# Convert 'Number of likes' to integer\n",
    "tweets_df['Likes'] = tweets_df['Likes'].astype(int)\n",
    "\n",
    "print(\"\\nCleaned DataFrame Info:\")\n",
    "print(tweets_df.info())\n",
    "\n",
    "print(\"\\nCleaned DataFrame Head:\")\n",
    "print(tweets_df.head())\n",
    "\n",
    "print(\"\\nCleaned DataFrame Description:\")\n",
    "print(tweets_df.describe())"
   ]
  },
  {
   "cell_type": "code",
   "execution_count": 19,
   "metadata": {},
   "outputs": [
    {
     "data": {
      "image/png": "[encoded data removed]",
      "text/plain": [
       "<Figure size 720x432 with 1 Axes>"
      ]
     },
     "metadata": {},
     "output_type": "display_data"
    },
    {
     "data": {
      "image/png": "[encoded data removed]",
      "text/plain": [
       "<Figure size 864x432 with 1 Axes>"
      ]
     },
     "metadata": {},
     "output_type": "display_data"
    },
    {
     "name": "stdout",
     "output_type": "stream",
     "text": [
      "Overall Mean of Likes: 4997.358\n",
      "\n",
      "Mean of Likes for each Category:\n",
      "  Category   Mean_Likes\n",
      "0  Culture  5083.925926\n",
      "1   Family  4814.232143\n",
      "2  Fashion  5531.057971\n",
      "3  Fitness  4801.000000\n",
      "4     Food  4974.423729\n",
      "5   Health  5048.391304\n",
      "6    Music  4886.982456\n",
      "7   Travel  4793.684211\n",
      "\n",
      "Category with the highest mean likes:\n",
      "Category      Fashion\n",
      "Mean_Likes    5531.06\n",
      "Name: 2, dtype: object\n"
     ]
    },
    {
     "data": {
      "image/png": "[encoded data removed]",
      "text/plain": [
       "<Figure size 432x288 with 1 Axes>"
      ]
     },
     "metadata": {},
     "output_type": "display_data"
    },
    {
     "name": "stdout",
     "output_type": "stream",
     "text": [
      "\n",
      "Month with the Most Likes: 2022-01\n"
     ]
    }
   ],
   "source": [
    "# Visualize and Analyze the data\n",
    "# Histogram of Likes\n",
    "plt.figure(figsize=(10, 6))\n",
    "\n",
    "# Returns distplot\n",
    "sns.distplot(tweets_df['Likes'], bins=30, kde=False)\n",
    "plt.title('Distribution of Likes')\n",
    "plt.xlabel('Likes')\n",
    "plt.ylabel('Frequency')\n",
    "plt.show()\n",
    "\n",
    "# Boxplot of Likes by Category\n",
    "plt.figure(figsize=(12, 6))\n",
    "sns.boxplot(x='Category', y='Likes', data=tweets_df)\n",
    "plt.title('Likes by Category')\n",
    "plt.xlabel('Category')\n",
    "plt.ylabel('Likes')\n",
    "plt.xticks(rotation=45)\n",
    "plt.show()\n",
    "\n",
    "# Perform statistics on the data\n",
    "# Mean of Likes overall\n",
    "overall_mean_likes = tweets_df['Likes'].mean()\n",
    "print(\"Overall Mean of Likes:\", overall_mean_likes)\n",
    "\n",
    "# Mean of Likes for each Category\n",
    "category_mean_likes = tweets_df.groupby('Category')['Likes'].mean().reset_index()\n",
    "category_mean_likes.columns = ['Category', 'Mean_Likes']\n",
    "\n",
    "print(\"\\nMean of Likes for each Category:\")\n",
    "print(category_mean_likes)\n",
    "\n",
    "# Category with the highest mean likes\n",
    "max_mean_category = category_mean_likes.loc[category_mean_likes['Mean_Likes'].idxmax()]\n",
    "print(\"\\nCategory with the highest mean likes:\")\n",
    "print(max_mean_category)\n",
    "\n",
    "# Calculate the month with more likes\n",
    "tweets_df['YearMonth'] = tweets_df['Date'].dt.to_period('M')\n",
    "monthly_likes = tweets_df.groupby('YearMonth')['Likes'].mean().reset_index()\n",
    "sns.barplot(data=monthly_likes, x='YearMonth', y='Likes')\n",
    "\n",
    "plt.xticks(rotation=45)\n",
    "plt.show()\n",
    "\n",
    "# Find and print the month with the most likes\n",
    "month_with_max_likes = monthly_likes.loc[monthly_likes['Likes'].idxmax(), 'YearMonth']\n",
    "print(\"\\nMonth with the Most Likes:\", month_with_max_likes)"
   ]
  },
  {
   "cell_type": "code",
   "execution_count": 20,
   "metadata": {},
   "outputs": [
    {
     "name": "stdout",
     "output_type": "stream",
     "text": [
      "\n",
      "Conclusions:\n",
      "- The most liked category is Fashion, with an average of 5531 likes. Therefore, posts should be more fashion related to achieve better engagement. \n",
      "- The least liked category is Travel, with an average of 4793 likes. Therefore, travel related posts need more invesment to become more appealing. \n",
      "- The month in which most likes were achieved was January, while the months with the least number of likes were May and July.\n",
      "\n"
     ]
    }
   ],
   "source": [
    "conclusions = f\"\"\"\n",
    "Conclusions:\n",
    "- The most liked category is Fashion, with an average of 5531 likes. Therefore, posts should be more fashion related to achieve better engagement. \n",
    "- The least liked category is Travel, with an average of 4793 likes. Therefore, travel related posts need more invesment to become more appealing. \n",
    "- The month in which most likes were achieved was January, while the months with the least number of likes were May and July.\n",
    "\"\"\"\n",
    "print(conclusions)"
   ]
  },
  {
   "cell_type": "code",
   "execution_count": null,
   "metadata": {},
   "outputs": [],
   "source": []
  }
 ],
 "metadata": {
  "kernelspec": {
   "display_name": "Python 3",
   "language": "python",
   "name": "python3"
  },
  "language_info": {
   "codemirror_mode": {
    "name": "ipython",
    "version": 3
   },
   "file_extension": ".py",
   "mimetype": "text/x-python",
   "name": "python",
   "nbconvert_exporter": "python",
   "pygments_lexer": "ipython3",
   "version": "3.7.6"
  }
 },
 "nbformat": 4,
 "nbformat_minor": 4
}
